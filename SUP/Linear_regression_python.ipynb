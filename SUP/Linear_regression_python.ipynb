{
  "nbformat": 4,
  "nbformat_minor": 0,
  "metadata": {
    "colab": {
      "name": "Linear_regression_python.ipynb",
      "version": "0.3.2",
      "provenance": []
    },
    "kernelspec": {
      "name": "python3",
      "display_name": "Python 3"
    }
  },
  "cells": [
    {
      "metadata": {
        "id": "NDqKMXUOaABL",
        "colab_type": "code",
        "colab": {
          "base_uri": "https://localhost:8080/",
          "height": 350
        },
        "outputId": "c47001c2-29e9-4534-90a6-17fe192734d9"
      },
      "cell_type": "code",
      "source": [
        "# Simple Linear Regression on the Swedish Insurance Dataset\n",
        "from random import seed\n",
        "from random import randrange\n",
        "from csv import reader\n",
        "from math import sqrt\n",
        " \n",
        "# Load a CSV file\n",
        "def load_csv(filename):\n",
        "\tdataset = list()\n",
        "\twith open(filename, 'r') as file:\n",
        "\t\tcsv_reader = reader(file)\n",
        "\t\tfor row in csv_reader:\n",
        "\t\t\tif not row:\n",
        "\t\t\t\tcontinue\n",
        "\t\t\tdataset.append(row)\n",
        "\treturn dataset\n",
        " \n",
        "# Convert string column to float\n",
        "def str_column_to_float(dataset, column):\n",
        "\tfor row in dataset:\n",
        "\t\trow[column] = float(row[column].strip())\n",
        " \n",
        "# Split a dataset into a train and test set\n",
        "def train_test_split(dataset, split):\n",
        "\ttrain = list()\n",
        "\ttrain_size = split * len(dataset)\n",
        "\tdataset_copy = list(dataset)\n",
        "\twhile len(train) < train_size:\n",
        "\t\tindex = randrange(len(dataset_copy))\n",
        "\t\ttrain.append(dataset_copy.pop(index))\n",
        "\treturn train, dataset_copy\n",
        " \n",
        "# Calculate root mean squared error\n",
        "def rmse_metric(actual, predicted):\n",
        "\tsum_error = 0.0\n",
        "\tfor i in range(len(actual)):\n",
        "\t\tprediction_error = predicted[i] - actual[i]\n",
        "\t\tsum_error += (prediction_error ** 2)\n",
        "\tmean_error = sum_error / float(len(actual))\n",
        "\treturn sqrt(mean_error)\n",
        " \n",
        "# Evaluate an algorithm using a train/test split\n",
        "def evaluate_algorithm(dataset, algorithm, split, *args):\n",
        "\ttrain, test = train_test_split(dataset, split)\n",
        "\ttest_set = list()\n",
        "\tfor row in test:\n",
        "\t\trow_copy = list(row)\n",
        "\t\trow_copy[-1] = None\n",
        "\t\ttest_set.append(row_copy)\n",
        "\tpredicted = algorithm(train, test_set, *args)\n",
        "\tactual = [row[-1] for row in test]\n",
        "\trmse = rmse_metric(actual, predicted)\n",
        "\treturn rmse\n",
        " \n",
        "# Calculate the mean value of a list of numbers\n",
        "def mean(values):\n",
        "\treturn sum(values) / float(len(values))\n",
        " \n",
        "# Calculate covariance between x and y\n",
        "def covariance(x, mean_x, y, mean_y):\n",
        "\tcovar = 0.0\n",
        "\tfor i in range(len(x)):\n",
        "\t\tcovar += (x[i] - mean_x) * (y[i] - mean_y)\n",
        "\treturn covar\n",
        " \n",
        "# Calculate the variance of a list of numbers\n",
        "def variance(values, mean):\n",
        "\treturn sum([(x-mean)**2 for x in values])\n",
        " \n",
        "# Calculate coefficients\n",
        "def coefficients(dataset):\n",
        "\tx = [row[0] for row in dataset]\n",
        "\ty = [row[1] for row in dataset]\n",
        "\tx_mean, y_mean = mean(x), mean(y)\n",
        "\tb1 = covariance(x, x_mean, y, y_mean) / variance(x, x_mean)\n",
        "\tb0 = y_mean - b1 * x_mean\n",
        "\treturn [b0, b1]\n",
        " \n",
        "# Simple linear regression algorithm\n",
        "def simple_linear_regression(train, test):\n",
        "\tpredictions = list()\n",
        "\tb0, b1 = coefficients(train)\n",
        "\tfor row in test:\n",
        "\t\tyhat = b0 + b1 * row[0]\n",
        "\t\tpredictions.append(yhat)\n",
        "\treturn predictions\n",
        " \n",
        "# Simple linear regression on insurance dataset\n",
        "seed(1)\n",
        "# load and prepare data\n",
        "filename = 'insurance.csv'\n",
        "dataset = load_csv(filename)\n",
        "for i in range(len(dataset[0])):\n",
        "\tstr_column_to_float(dataset, i)\n",
        "# evaluate algorithm\n",
        "split = 0.6\n",
        "rmse = evaluate_algorithm(dataset, simple_linear_regression, split)\n",
        "print('RMSE: %.3f' % (rmse))"
      ],
      "execution_count": 6,
      "outputs": [
        {
          "output_type": "error",
          "ename": "FileNotFoundError",
          "evalue": "ignored",
          "traceback": [
            "\u001b[0;31m---------------------------------------------------------------------------\u001b[0m",
            "\u001b[0;31mFileNotFoundError\u001b[0m                         Traceback (most recent call last)",
            "\u001b[0;32m<ipython-input-6-499000e7f52b>\u001b[0m in \u001b[0;36m<module>\u001b[0;34m()\u001b[0m\n\u001b[1;32m     89\u001b[0m \u001b[0;31m# load and prepare data\u001b[0m\u001b[0;34m\u001b[0m\u001b[0;34m\u001b[0m\u001b[0;34m\u001b[0m\u001b[0m\n\u001b[1;32m     90\u001b[0m \u001b[0mfilename\u001b[0m \u001b[0;34m=\u001b[0m \u001b[0;34m'insurance.csv'\u001b[0m\u001b[0;34m\u001b[0m\u001b[0;34m\u001b[0m\u001b[0m\n\u001b[0;32m---> 91\u001b[0;31m \u001b[0mdataset\u001b[0m \u001b[0;34m=\u001b[0m \u001b[0mload_csv\u001b[0m\u001b[0;34m(\u001b[0m\u001b[0mfilename\u001b[0m\u001b[0;34m)\u001b[0m\u001b[0;34m\u001b[0m\u001b[0;34m\u001b[0m\u001b[0m\n\u001b[0m\u001b[1;32m     92\u001b[0m \u001b[0;32mfor\u001b[0m \u001b[0mi\u001b[0m \u001b[0;32min\u001b[0m \u001b[0mrange\u001b[0m\u001b[0;34m(\u001b[0m\u001b[0mlen\u001b[0m\u001b[0;34m(\u001b[0m\u001b[0mdataset\u001b[0m\u001b[0;34m[\u001b[0m\u001b[0;36m0\u001b[0m\u001b[0;34m]\u001b[0m\u001b[0;34m)\u001b[0m\u001b[0;34m)\u001b[0m\u001b[0;34m:\u001b[0m\u001b[0;34m\u001b[0m\u001b[0;34m\u001b[0m\u001b[0m\n\u001b[1;32m     93\u001b[0m         \u001b[0mstr_column_to_float\u001b[0m\u001b[0;34m(\u001b[0m\u001b[0mdataset\u001b[0m\u001b[0;34m,\u001b[0m \u001b[0mi\u001b[0m\u001b[0;34m)\u001b[0m\u001b[0;34m\u001b[0m\u001b[0;34m\u001b[0m\u001b[0m\n",
            "\u001b[0;32m<ipython-input-6-499000e7f52b>\u001b[0m in \u001b[0;36mload_csv\u001b[0;34m(filename)\u001b[0m\n\u001b[1;32m      7\u001b[0m \u001b[0;32mdef\u001b[0m \u001b[0mload_csv\u001b[0m\u001b[0;34m(\u001b[0m\u001b[0mfilename\u001b[0m\u001b[0;34m)\u001b[0m\u001b[0;34m:\u001b[0m\u001b[0;34m\u001b[0m\u001b[0;34m\u001b[0m\u001b[0m\n\u001b[1;32m      8\u001b[0m         \u001b[0mdataset\u001b[0m \u001b[0;34m=\u001b[0m \u001b[0mlist\u001b[0m\u001b[0;34m(\u001b[0m\u001b[0;34m)\u001b[0m\u001b[0;34m\u001b[0m\u001b[0;34m\u001b[0m\u001b[0m\n\u001b[0;32m----> 9\u001b[0;31m         \u001b[0;32mwith\u001b[0m \u001b[0mopen\u001b[0m\u001b[0;34m(\u001b[0m\u001b[0mfilename\u001b[0m\u001b[0;34m,\u001b[0m \u001b[0;34m'r'\u001b[0m\u001b[0;34m)\u001b[0m \u001b[0;32mas\u001b[0m \u001b[0mfile\u001b[0m\u001b[0;34m:\u001b[0m\u001b[0;34m\u001b[0m\u001b[0;34m\u001b[0m\u001b[0m\n\u001b[0m\u001b[1;32m     10\u001b[0m                 \u001b[0mcsv_reader\u001b[0m \u001b[0;34m=\u001b[0m \u001b[0mreader\u001b[0m\u001b[0;34m(\u001b[0m\u001b[0mfile\u001b[0m\u001b[0;34m)\u001b[0m\u001b[0;34m\u001b[0m\u001b[0;34m\u001b[0m\u001b[0m\n\u001b[1;32m     11\u001b[0m                 \u001b[0;32mfor\u001b[0m \u001b[0mrow\u001b[0m \u001b[0;32min\u001b[0m \u001b[0mcsv_reader\u001b[0m\u001b[0;34m:\u001b[0m\u001b[0;34m\u001b[0m\u001b[0;34m\u001b[0m\u001b[0m\n",
            "\u001b[0;31mFileNotFoundError\u001b[0m: [Errno 2] No such file or directory: 'insurance.csv'"
          ]
        }
      ]
    },
    {
      "metadata": {
        "id": "xoBQkqzsaBRx",
        "colab_type": "code",
        "colab": {}
      },
      "cell_type": "code",
      "source": [
        ""
      ],
      "execution_count": 0,
      "outputs": []
    }
  ]
}